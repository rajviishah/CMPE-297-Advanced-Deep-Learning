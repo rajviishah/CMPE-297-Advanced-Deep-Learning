{
  "cells": [
    {
      "cell_type": "code",
      "source": [
        "import numpy\n",
        "from keras.models import Sequential\n",
        "from keras.layers import Dense,Dropout,Flatten,Conv2D,MaxPooling2D\n",
        "from keras.constraints import maxnorm\n",
        "from tensorflow.keras.optimizers import SGD\n",
        "from keras.utils import np_utils \n",
        "from keras import backend as K "
      ],
      "metadata": {
        "id": "eHo7jV0idjU5"
      },
      "execution_count": 1,
      "outputs": []
    },
    {
      "cell_type": "code",
      "source": [
        "from keras.datasets import cifar10\n",
        "# let's load data \n",
        "(X_train, y_train), (X_test, y_test) = cifar10.load_data()"
      ],
      "metadata": {
        "id": "YWkMGbRqeN1t",
        "colab": {
          "base_uri": "https://localhost:8080/"
        },
        "outputId": "5ce62c05-93e9-418a-aeda-29b4569a087f"
      },
      "execution_count": 2,
      "outputs": [
        {
          "output_type": "stream",
          "name": "stdout",
          "text": [
            "Downloading data from https://www.cs.toronto.edu/~kriz/cifar-10-python.tar.gz\n",
            "170500096/170498071 [==============================] - 3s 0us/step\n",
            "170508288/170498071 [==============================] - 3s 0us/step\n"
          ]
        }
      ]
    },
    {
      "cell_type": "code",
      "source": [
        "#normalizing inputs from 0-255 to 0.0-1.0 \n",
        "X_train = X_train.astype('float32') \n",
        "X_test = X_test.astype('float32') \n",
        "X_train = X_train / 255.0 \n",
        "X_test = X_test / 255.0"
      ],
      "metadata": {
        "id": "rWJ-C7QteVHR"
      },
      "execution_count": 3,
      "outputs": []
    },
    {
      "cell_type": "code",
      "source": [
        "# one hot encode outputs \n",
        "y_train = np_utils.to_categorical(y_train) \n",
        "y_test = np_utils.to_categorical(y_test) \n",
        "num_classes = y_test.shape[1]"
      ],
      "metadata": {
        "id": "DHC4ZhCPeYC4"
      },
      "execution_count": 4,
      "outputs": []
    },
    {
      "cell_type": "code",
      "source": [
        "# Create the model \n",
        "model = Sequential()"
      ],
      "metadata": {
        "id": "t2IcBeDJeZ7z"
      },
      "execution_count": 5,
      "outputs": []
    },
    {
      "cell_type": "code",
      "source": [
        "model.add(Conv2D(32, (3, 3), input_shape=(32,32,3), activation='relu', padding='same')) \n",
        "model.add(Dropout(0.2)) \n",
        "model.add(Conv2D(32, (3, 3), activation='relu', padding='same')) \n",
        "model.add(MaxPooling2D(pool_size=(2, 2))) \n",
        "model.add(Conv2D(64, (3, 3), activation='relu', padding='same')) \n",
        "model.add(Dropout(0.2)) \n",
        "model.add(Conv2D(64, (3, 3), activation='relu', padding='same')) \n",
        "model.add(MaxPooling2D(pool_size=(2, 2))) \n",
        "model.add(Conv2D(128, (3, 3), activation='relu', padding='same')) \n",
        "model.add(Dropout(0.2)) \n",
        "model.add(Conv2D(128, (3, 3), activation='relu', padding='same')) \n",
        "model.add(MaxPooling2D(pool_size=(2, 2))) \n",
        "model.add(Flatten())\n",
        "model.add(Dropout(0.2)) \n",
        "model.add(Dense(1024, activation='relu', kernel_constraint=maxnorm(3))) \n",
        "model.add(Dropout(0.2)) \n",
        "model.add(Dense(512, activation='relu', kernel_constraint=maxnorm(3))) \n",
        "model.add(Dropout(0.2)) \n",
        "model.add(Dense(num_classes, activation='softmax'))"
      ],
      "metadata": {
        "id": "DZ0Cx2MNeb2p"
      },
      "execution_count": 6,
      "outputs": []
    },
    {
      "cell_type": "code",
      "source": [
        "# Compile model \n",
        "lrate = 0.01 \n",
        "epochs = 2\n",
        "decay = lrate/epochs \n",
        "sgd = SGD(lr=lrate, momentum=0.9, decay=decay, nesterov=False) \n",
        "model.compile(loss='categorical_crossentropy', optimizer=sgd, metrics=['accuracy'])"
      ],
      "metadata": {
        "colab": {
          "base_uri": "https://localhost:8080/"
        },
        "id": "9fiNFsE_eegY",
        "outputId": "6c235677-bd3c-4278-9d30-88c982927f90"
      },
      "execution_count": 7,
      "outputs": [
        {
          "output_type": "stream",
          "name": "stderr",
          "text": [
            "/usr/local/lib/python3.7/dist-packages/keras/optimizer_v2/gradient_descent.py:102: UserWarning: The `lr` argument is deprecated, use `learning_rate` instead.\n",
            "  super(SGD, self).__init__(name, **kwargs)\n"
          ]
        }
      ]
    },
    {
      "cell_type": "code",
      "source": [
        "model.fit(X_train, y_train, validation_data=(X_test, y_test), epochs=2, batch_size=32) \n",
        "# Final evaluation of the model \n",
        "scores = model.evaluate(X_test, y_test, verbose=0) \n",
        "print(\"Accuracy: %.2f%%\" % (scores[1]*100))"
      ],
      "metadata": {
        "colab": {
          "base_uri": "https://localhost:8080/"
        },
        "id": "DoaV1Gu8emZm",
        "outputId": "2c1cca90-497c-4a8b-c604-81f4e2b268d5"
      },
      "execution_count": 8,
      "outputs": [
        {
          "output_type": "stream",
          "name": "stdout",
          "text": [
            "Epoch 1/2\n",
            "1563/1563 [==============================] - 24s 8ms/step - loss: 1.9223 - accuracy: 0.2933 - val_loss: 1.6883 - val_accuracy: 0.3978\n",
            "Epoch 2/2\n",
            "1563/1563 [==============================] - 11s 7ms/step - loss: 1.6253 - accuracy: 0.4073 - val_loss: 1.5160 - val_accuracy: 0.4552\n",
            "Accuracy: 45.52%\n"
          ]
        }
      ]
    }
  ],
  "metadata": {
    "kernelspec": {
      "display_name": "Python 3.7.6 64-bit",
      "language": "python",
      "name": "python3"
    },
    "language_info": {
      "codemirror_mode": {
        "name": "ipython",
        "version": 3
      },
      "file_extension": ".py",
      "mimetype": "text/x-python",
      "name": "python",
      "nbconvert_exporter": "python",
      "pygments_lexer": "ipython3",
      "version": "3.7.6"
    },
    "orig_nbformat": 4,
    "vscode": {
      "interpreter": {
        "hash": "949777d72b0d2535278d3dc13498b2535136f6dfe0678499012e853ee9abcab1"
      }
    },
    "colab": {
      "name": "Model using Keras Rajvi.ipynb",
      "provenance": [],
      "collapsed_sections": []
    },
    "accelerator": "GPU",
    "gpuClass": "standard"
  },
  "nbformat": 4,
  "nbformat_minor": 0
}