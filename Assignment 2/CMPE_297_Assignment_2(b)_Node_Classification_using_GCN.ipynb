{
  "cells": [
    {
      "cell_type": "markdown",
      "metadata": {
        "id": "ZjvXjwSbVvMl"
      },
      "source": [
        "# **Node classification with GCN**\n",
        "\n"
      ]
    },
    {
      "cell_type": "markdown",
      "source": [
        "## **Installation**"
      ],
      "metadata": {
        "id": "6iu_zaKi2ph3"
      }
    },
    {
      "cell_type": "code",
      "execution_count": 1,
      "metadata": {
        "nbsphinx": "hidden",
        "tags": [
          "CloudRunner"
        ],
        "id": "YcdTPpDEVvMw",
        "colab": {
          "base_uri": "https://localhost:8080/"
        },
        "outputId": "32ee733f-8e4c-4e87-c426-a92dfb6d15bf"
      },
      "outputs": [
        {
          "output_type": "stream",
          "name": "stdout",
          "text": [
            "\u001b[K     |████████████████████████████████| 435 kB 7.7 MB/s \n",
            "\u001b[K     |████████████████████████████████| 500 kB 58.6 MB/s \n",
            "\u001b[K     |████████████████████████████████| 120 kB 66.9 MB/s \n",
            "\u001b[K     |████████████████████████████████| 1.6 MB 15.8 MB/s \n",
            "\u001b[K     |████████████████████████████████| 82 kB 691 kB/s \n",
            "\u001b[K     |████████████████████████████████| 41 kB 520 kB/s \n",
            "\u001b[?25h  Building wheel for mplleaflet (setup.py) ... \u001b[?25l\u001b[?25hdone\n"
          ]
        }
      ],
      "source": [
        "import sys\n",
        "if 'google.colab' in sys.modules:\n",
        "  %pip install -q stellargraph[demos]==1.2.1"
      ]
    },
    {
      "cell_type": "code",
      "execution_count": 2,
      "metadata": {
        "nbsphinx": "hidden",
        "tags": [
          "VersionCheck"
        ],
        "id": "mPdqUX1HVvMx"
      },
      "outputs": [],
      "source": [
        "import stellargraph as sg\n",
        "\n",
        "try:\n",
        "    sg.utils.validate_notebook_version(\"1.2.1\")\n",
        "except AttributeError:\n",
        "    raise ValueError(\n",
        "        f\"This notebook requires StellarGraph version 1.2.1, but a different version {sg.__version__} is installed.  Please see <https://github.com/stellargraph/stellargraph/issues/1172>.\"\n",
        "    ) from None"
      ]
    },
    {
      "cell_type": "code",
      "execution_count": 3,
      "metadata": {
        "id": "1fiE4lPJVvMz"
      },
      "outputs": [],
      "source": [
        "import pandas as pd\n",
        "import os\n",
        "\n",
        "import stellargraph as sg\n",
        "from stellargraph.mapper import FullBatchNodeGenerator\n",
        "from stellargraph.layer import GCN\n",
        "\n",
        "from tensorflow.keras import layers, optimizers, losses, metrics, Model\n",
        "from sklearn import preprocessing, model_selection\n",
        "from IPython.display import display, HTML\n",
        "import matplotlib.pyplot as plt\n",
        "%matplotlib inline"
      ]
    },
    {
      "cell_type": "markdown",
      "metadata": {
        "id": "ZT_Qb4xEVvM0"
      },
      "source": [
        "## **Data Preparation**\n"
      ]
    },
    {
      "cell_type": "code",
      "execution_count": 4,
      "metadata": {
        "tags": [
          "DataLoading"
        ],
        "id": "J_JCoe8GVvM4",
        "outputId": "db7ca9e7-89ad-4515-f622-d92f04234b63",
        "colab": {
          "base_uri": "https://localhost:8080/",
          "height": 52
        }
      },
      "outputs": [
        {
          "output_type": "display_data",
          "data": {
            "text/plain": [
              "<IPython.core.display.HTML object>"
            ],
            "text/html": [
              "The Cora dataset consists of 2708 scientific publications classified into one of seven classes. The citation network consists of 5429 links. Each publication in the dataset is described by a 0/1-valued word vector indicating the absence/presence of the corresponding word from the dictionary. The dictionary consists of 1433 unique words."
            ]
          },
          "metadata": {}
        }
      ],
      "source": [
        "dataset = sg.datasets.Cora()\n",
        "display(HTML(dataset.description))\n",
        "G, node_subjects = dataset.load()"
      ]
    },
    {
      "cell_type": "code",
      "execution_count": 5,
      "metadata": {
        "id": "jiIX05CIVvM5",
        "outputId": "c00ec8cb-520a-456e-91d5-a229fb8f53a9",
        "colab": {
          "base_uri": "https://localhost:8080/"
        }
      },
      "outputs": [
        {
          "output_type": "stream",
          "name": "stdout",
          "text": [
            "StellarGraph: Undirected multigraph\n",
            " Nodes: 2708, Edges: 5429\n",
            "\n",
            " Node types:\n",
            "  paper: [2708]\n",
            "    Features: float32 vector, length 1433\n",
            "    Edge types: paper-cites->paper\n",
            "\n",
            " Edge types:\n",
            "    paper-cites->paper: [5429]\n",
            "        Weights: all 1 (default)\n",
            "        Features: none\n"
          ]
        }
      ],
      "source": [
        "#info method can help us verify that our loaded graph matches the description\n",
        "\n",
        "print(G.info())"
      ]
    },
    {
      "cell_type": "markdown",
      "metadata": {
        "id": "ikXIqPK-VvM6"
      },
      "source": [
        "We aim to train a graph-ML model that will predict the \"subject\" attribute on the nodes. These subjects are one of 7 categories, with some categories more common than others."
      ]
    },
    {
      "cell_type": "code",
      "execution_count": 6,
      "metadata": {
        "id": "bTK5FR6SVvM6",
        "outputId": "c8fbbeb7-5c7b-4e12-89df-fb6d05c40047",
        "colab": {
          "base_uri": "https://localhost:8080/",
          "height": 269
        }
      },
      "outputs": [
        {
          "output_type": "execute_result",
          "data": {
            "text/plain": [
              "                        subject\n",
              "Neural_Networks             818\n",
              "Probabilistic_Methods       426\n",
              "Genetic_Algorithms          418\n",
              "Theory                      351\n",
              "Case_Based                  298\n",
              "Reinforcement_Learning      217\n",
              "Rule_Learning               180"
            ],
            "text/html": [
              "\n",
              "  <div id=\"df-7c40ccbd-e699-4c58-ab25-1c7ef7c1c67b\">\n",
              "    <div class=\"colab-df-container\">\n",
              "      <div>\n",
              "<style scoped>\n",
              "    .dataframe tbody tr th:only-of-type {\n",
              "        vertical-align: middle;\n",
              "    }\n",
              "\n",
              "    .dataframe tbody tr th {\n",
              "        vertical-align: top;\n",
              "    }\n",
              "\n",
              "    .dataframe thead th {\n",
              "        text-align: right;\n",
              "    }\n",
              "</style>\n",
              "<table border=\"1\" class=\"dataframe\">\n",
              "  <thead>\n",
              "    <tr style=\"text-align: right;\">\n",
              "      <th></th>\n",
              "      <th>subject</th>\n",
              "    </tr>\n",
              "  </thead>\n",
              "  <tbody>\n",
              "    <tr>\n",
              "      <th>Neural_Networks</th>\n",
              "      <td>818</td>\n",
              "    </tr>\n",
              "    <tr>\n",
              "      <th>Probabilistic_Methods</th>\n",
              "      <td>426</td>\n",
              "    </tr>\n",
              "    <tr>\n",
              "      <th>Genetic_Algorithms</th>\n",
              "      <td>418</td>\n",
              "    </tr>\n",
              "    <tr>\n",
              "      <th>Theory</th>\n",
              "      <td>351</td>\n",
              "    </tr>\n",
              "    <tr>\n",
              "      <th>Case_Based</th>\n",
              "      <td>298</td>\n",
              "    </tr>\n",
              "    <tr>\n",
              "      <th>Reinforcement_Learning</th>\n",
              "      <td>217</td>\n",
              "    </tr>\n",
              "    <tr>\n",
              "      <th>Rule_Learning</th>\n",
              "      <td>180</td>\n",
              "    </tr>\n",
              "  </tbody>\n",
              "</table>\n",
              "</div>\n",
              "      <button class=\"colab-df-convert\" onclick=\"convertToInteractive('df-7c40ccbd-e699-4c58-ab25-1c7ef7c1c67b')\"\n",
              "              title=\"Convert this dataframe to an interactive table.\"\n",
              "              style=\"display:none;\">\n",
              "        \n",
              "  <svg xmlns=\"http://www.w3.org/2000/svg\" height=\"24px\"viewBox=\"0 0 24 24\"\n",
              "       width=\"24px\">\n",
              "    <path d=\"M0 0h24v24H0V0z\" fill=\"none\"/>\n",
              "    <path d=\"M18.56 5.44l.94 2.06.94-2.06 2.06-.94-2.06-.94-.94-2.06-.94 2.06-2.06.94zm-11 1L8.5 8.5l.94-2.06 2.06-.94-2.06-.94L8.5 2.5l-.94 2.06-2.06.94zm10 10l.94 2.06.94-2.06 2.06-.94-2.06-.94-.94-2.06-.94 2.06-2.06.94z\"/><path d=\"M17.41 7.96l-1.37-1.37c-.4-.4-.92-.59-1.43-.59-.52 0-1.04.2-1.43.59L10.3 9.45l-7.72 7.72c-.78.78-.78 2.05 0 2.83L4 21.41c.39.39.9.59 1.41.59.51 0 1.02-.2 1.41-.59l7.78-7.78 2.81-2.81c.8-.78.8-2.07 0-2.86zM5.41 20L4 18.59l7.72-7.72 1.47 1.35L5.41 20z\"/>\n",
              "  </svg>\n",
              "      </button>\n",
              "      \n",
              "  <style>\n",
              "    .colab-df-container {\n",
              "      display:flex;\n",
              "      flex-wrap:wrap;\n",
              "      gap: 12px;\n",
              "    }\n",
              "\n",
              "    .colab-df-convert {\n",
              "      background-color: #E8F0FE;\n",
              "      border: none;\n",
              "      border-radius: 50%;\n",
              "      cursor: pointer;\n",
              "      display: none;\n",
              "      fill: #1967D2;\n",
              "      height: 32px;\n",
              "      padding: 0 0 0 0;\n",
              "      width: 32px;\n",
              "    }\n",
              "\n",
              "    .colab-df-convert:hover {\n",
              "      background-color: #E2EBFA;\n",
              "      box-shadow: 0px 1px 2px rgba(60, 64, 67, 0.3), 0px 1px 3px 1px rgba(60, 64, 67, 0.15);\n",
              "      fill: #174EA6;\n",
              "    }\n",
              "\n",
              "    [theme=dark] .colab-df-convert {\n",
              "      background-color: #3B4455;\n",
              "      fill: #D2E3FC;\n",
              "    }\n",
              "\n",
              "    [theme=dark] .colab-df-convert:hover {\n",
              "      background-color: #434B5C;\n",
              "      box-shadow: 0px 1px 3px 1px rgba(0, 0, 0, 0.15);\n",
              "      filter: drop-shadow(0px 1px 2px rgba(0, 0, 0, 0.3));\n",
              "      fill: #FFFFFF;\n",
              "    }\n",
              "  </style>\n",
              "\n",
              "      <script>\n",
              "        const buttonEl =\n",
              "          document.querySelector('#df-7c40ccbd-e699-4c58-ab25-1c7ef7c1c67b button.colab-df-convert');\n",
              "        buttonEl.style.display =\n",
              "          google.colab.kernel.accessAllowed ? 'block' : 'none';\n",
              "\n",
              "        async function convertToInteractive(key) {\n",
              "          const element = document.querySelector('#df-7c40ccbd-e699-4c58-ab25-1c7ef7c1c67b');\n",
              "          const dataTable =\n",
              "            await google.colab.kernel.invokeFunction('convertToInteractive',\n",
              "                                                     [key], {});\n",
              "          if (!dataTable) return;\n",
              "\n",
              "          const docLinkHtml = 'Like what you see? Visit the ' +\n",
              "            '<a target=\"_blank\" href=https://colab.research.google.com/notebooks/data_table.ipynb>data table notebook</a>'\n",
              "            + ' to learn more about interactive tables.';\n",
              "          element.innerHTML = '';\n",
              "          dataTable['output_type'] = 'display_data';\n",
              "          await google.colab.output.renderOutput(dataTable, element);\n",
              "          const docLink = document.createElement('div');\n",
              "          docLink.innerHTML = docLinkHtml;\n",
              "          element.appendChild(docLink);\n",
              "        }\n",
              "      </script>\n",
              "    </div>\n",
              "  </div>\n",
              "  "
            ]
          },
          "metadata": {},
          "execution_count": 6
        }
      ],
      "source": [
        "node_subjects.value_counts().to_frame()"
      ]
    },
    {
      "cell_type": "markdown",
      "metadata": {
        "id": "oMAS77_7VvM7"
      },
      "source": [
        "### **Splitting the data**"
      ]
    },
    {
      "cell_type": "code",
      "execution_count": 7,
      "metadata": {
        "id": "NTd9-H5oVvM8"
      },
      "outputs": [],
      "source": [
        "train_subjects, test_subjects = model_selection.train_test_split(\n",
        "    node_subjects, train_size=140, test_size=None, stratify=node_subjects\n",
        ")\n",
        "val_subjects, test_subjects = model_selection.train_test_split(\n",
        "    test_subjects, train_size=500, test_size=None, stratify=test_subjects\n",
        ")"
      ]
    },
    {
      "cell_type": "code",
      "execution_count": 8,
      "metadata": {
        "id": "r1RpZirnVvM9",
        "outputId": "4190344c-1f31-43a3-fd1c-419d85fc8db1",
        "colab": {
          "base_uri": "https://localhost:8080/",
          "height": 269
        }
      },
      "outputs": [
        {
          "output_type": "execute_result",
          "data": {
            "text/plain": [
              "                        subject\n",
              "Neural_Networks              42\n",
              "Probabilistic_Methods        22\n",
              "Genetic_Algorithms           22\n",
              "Theory                       18\n",
              "Case_Based                   16\n",
              "Reinforcement_Learning       11\n",
              "Rule_Learning                 9"
            ],
            "text/html": [
              "\n",
              "  <div id=\"df-5eb90339-f1c0-401b-a2cb-d3387d07465c\">\n",
              "    <div class=\"colab-df-container\">\n",
              "      <div>\n",
              "<style scoped>\n",
              "    .dataframe tbody tr th:only-of-type {\n",
              "        vertical-align: middle;\n",
              "    }\n",
              "\n",
              "    .dataframe tbody tr th {\n",
              "        vertical-align: top;\n",
              "    }\n",
              "\n",
              "    .dataframe thead th {\n",
              "        text-align: right;\n",
              "    }\n",
              "</style>\n",
              "<table border=\"1\" class=\"dataframe\">\n",
              "  <thead>\n",
              "    <tr style=\"text-align: right;\">\n",
              "      <th></th>\n",
              "      <th>subject</th>\n",
              "    </tr>\n",
              "  </thead>\n",
              "  <tbody>\n",
              "    <tr>\n",
              "      <th>Neural_Networks</th>\n",
              "      <td>42</td>\n",
              "    </tr>\n",
              "    <tr>\n",
              "      <th>Probabilistic_Methods</th>\n",
              "      <td>22</td>\n",
              "    </tr>\n",
              "    <tr>\n",
              "      <th>Genetic_Algorithms</th>\n",
              "      <td>22</td>\n",
              "    </tr>\n",
              "    <tr>\n",
              "      <th>Theory</th>\n",
              "      <td>18</td>\n",
              "    </tr>\n",
              "    <tr>\n",
              "      <th>Case_Based</th>\n",
              "      <td>16</td>\n",
              "    </tr>\n",
              "    <tr>\n",
              "      <th>Reinforcement_Learning</th>\n",
              "      <td>11</td>\n",
              "    </tr>\n",
              "    <tr>\n",
              "      <th>Rule_Learning</th>\n",
              "      <td>9</td>\n",
              "    </tr>\n",
              "  </tbody>\n",
              "</table>\n",
              "</div>\n",
              "      <button class=\"colab-df-convert\" onclick=\"convertToInteractive('df-5eb90339-f1c0-401b-a2cb-d3387d07465c')\"\n",
              "              title=\"Convert this dataframe to an interactive table.\"\n",
              "              style=\"display:none;\">\n",
              "        \n",
              "  <svg xmlns=\"http://www.w3.org/2000/svg\" height=\"24px\"viewBox=\"0 0 24 24\"\n",
              "       width=\"24px\">\n",
              "    <path d=\"M0 0h24v24H0V0z\" fill=\"none\"/>\n",
              "    <path d=\"M18.56 5.44l.94 2.06.94-2.06 2.06-.94-2.06-.94-.94-2.06-.94 2.06-2.06.94zm-11 1L8.5 8.5l.94-2.06 2.06-.94-2.06-.94L8.5 2.5l-.94 2.06-2.06.94zm10 10l.94 2.06.94-2.06 2.06-.94-2.06-.94-.94-2.06-.94 2.06-2.06.94z\"/><path d=\"M17.41 7.96l-1.37-1.37c-.4-.4-.92-.59-1.43-.59-.52 0-1.04.2-1.43.59L10.3 9.45l-7.72 7.72c-.78.78-.78 2.05 0 2.83L4 21.41c.39.39.9.59 1.41.59.51 0 1.02-.2 1.41-.59l7.78-7.78 2.81-2.81c.8-.78.8-2.07 0-2.86zM5.41 20L4 18.59l7.72-7.72 1.47 1.35L5.41 20z\"/>\n",
              "  </svg>\n",
              "      </button>\n",
              "      \n",
              "  <style>\n",
              "    .colab-df-container {\n",
              "      display:flex;\n",
              "      flex-wrap:wrap;\n",
              "      gap: 12px;\n",
              "    }\n",
              "\n",
              "    .colab-df-convert {\n",
              "      background-color: #E8F0FE;\n",
              "      border: none;\n",
              "      border-radius: 50%;\n",
              "      cursor: pointer;\n",
              "      display: none;\n",
              "      fill: #1967D2;\n",
              "      height: 32px;\n",
              "      padding: 0 0 0 0;\n",
              "      width: 32px;\n",
              "    }\n",
              "\n",
              "    .colab-df-convert:hover {\n",
              "      background-color: #E2EBFA;\n",
              "      box-shadow: 0px 1px 2px rgba(60, 64, 67, 0.3), 0px 1px 3px 1px rgba(60, 64, 67, 0.15);\n",
              "      fill: #174EA6;\n",
              "    }\n",
              "\n",
              "    [theme=dark] .colab-df-convert {\n",
              "      background-color: #3B4455;\n",
              "      fill: #D2E3FC;\n",
              "    }\n",
              "\n",
              "    [theme=dark] .colab-df-convert:hover {\n",
              "      background-color: #434B5C;\n",
              "      box-shadow: 0px 1px 3px 1px rgba(0, 0, 0, 0.15);\n",
              "      filter: drop-shadow(0px 1px 2px rgba(0, 0, 0, 0.3));\n",
              "      fill: #FFFFFF;\n",
              "    }\n",
              "  </style>\n",
              "\n",
              "      <script>\n",
              "        const buttonEl =\n",
              "          document.querySelector('#df-5eb90339-f1c0-401b-a2cb-d3387d07465c button.colab-df-convert');\n",
              "        buttonEl.style.display =\n",
              "          google.colab.kernel.accessAllowed ? 'block' : 'none';\n",
              "\n",
              "        async function convertToInteractive(key) {\n",
              "          const element = document.querySelector('#df-5eb90339-f1c0-401b-a2cb-d3387d07465c');\n",
              "          const dataTable =\n",
              "            await google.colab.kernel.invokeFunction('convertToInteractive',\n",
              "                                                     [key], {});\n",
              "          if (!dataTable) return;\n",
              "\n",
              "          const docLinkHtml = 'Like what you see? Visit the ' +\n",
              "            '<a target=\"_blank\" href=https://colab.research.google.com/notebooks/data_table.ipynb>data table notebook</a>'\n",
              "            + ' to learn more about interactive tables.';\n",
              "          element.innerHTML = '';\n",
              "          dataTable['output_type'] = 'display_data';\n",
              "          await google.colab.output.renderOutput(dataTable, element);\n",
              "          const docLink = document.createElement('div');\n",
              "          docLink.innerHTML = docLinkHtml;\n",
              "          element.appendChild(docLink);\n",
              "        }\n",
              "      </script>\n",
              "    </div>\n",
              "  </div>\n",
              "  "
            ]
          },
          "metadata": {},
          "execution_count": 8
        }
      ],
      "source": [
        "train_subjects.value_counts().to_frame()"
      ]
    },
    {
      "cell_type": "markdown",
      "metadata": {
        "id": "Iyo0LskIVvM9"
      },
      "source": [
        "The training set has class imbalance that might need to be compensated, e.g., via using a weighted cross-entropy loss in model training, with class weights inversely proportional to class support. However, we will ignore the class imbalance in this example, for simplicity."
      ]
    },
    {
      "cell_type": "markdown",
      "metadata": {
        "id": "M38VVbZYVvM-"
      },
      "source": [
        "### **Converting to numeric arrays**"
      ]
    },
    {
      "cell_type": "code",
      "execution_count": 9,
      "metadata": {
        "id": "zI41FssyVvM-"
      },
      "outputs": [],
      "source": [
        "target_encoding = preprocessing.LabelBinarizer()\n",
        "\n",
        "train_targets = target_encoding.fit_transform(train_subjects)\n",
        "val_targets = target_encoding.transform(val_subjects)\n",
        "test_targets = target_encoding.transform(test_subjects)"
      ]
    },
    {
      "cell_type": "code",
      "execution_count": 10,
      "metadata": {
        "id": "wqT9PhS2VvNA",
        "outputId": "d042ec71-c67d-42b5-94d5-6e7d36726abd",
        "colab": {
          "base_uri": "https://localhost:8080/"
        }
      },
      "outputs": [
        {
          "output_type": "stream",
          "name": "stdout",
          "text": [
            "Using GCN (local pooling) filters...\n"
          ]
        }
      ],
      "source": [
        "generator = FullBatchNodeGenerator(G, method=\"gcn\")"
      ]
    },
    {
      "cell_type": "code",
      "execution_count": 11,
      "metadata": {
        "id": "4buUIz69VvNA"
      },
      "outputs": [],
      "source": [
        "train_gen = generator.flow(train_subjects.index, train_targets)"
      ]
    },
    {
      "cell_type": "code",
      "execution_count": 12,
      "metadata": {
        "id": "uS1lpDTUVvNB"
      },
      "outputs": [],
      "source": [
        "gcn = GCN(\n",
        "    layer_sizes=[16, 16], activations=[\"relu\", \"relu\"], generator=generator, dropout=0.5\n",
        ")"
      ]
    },
    {
      "cell_type": "markdown",
      "metadata": {
        "id": "H6RjAqZMVvNB"
      },
      "source": [
        "To create a Keras model we now expose the input and output tensors of the GCN model for node prediction, via the `GCN.in_out_tensors` method:"
      ]
    },
    {
      "cell_type": "code",
      "execution_count": 13,
      "metadata": {
        "id": "EI2aukKJVvNC",
        "outputId": "42753e5a-91be-450e-e6a9-47439e7d253c",
        "colab": {
          "base_uri": "https://localhost:8080/"
        }
      },
      "outputs": [
        {
          "output_type": "execute_result",
          "data": {
            "text/plain": [
              "<KerasTensor: shape=(1, None, 16) dtype=float32 (created by layer 'gather_indices')>"
            ]
          },
          "metadata": {},
          "execution_count": 13
        }
      ],
      "source": [
        "x_inp, x_out = gcn.in_out_tensors()\n",
        "\n",
        "x_out"
      ]
    },
    {
      "cell_type": "code",
      "execution_count": 15,
      "metadata": {
        "id": "umKcMNXzVvND"
      },
      "outputs": [],
      "source": [
        "predictions = layers.Dense(units=train_targets.shape[1], activation=\"softmax\")(x_out)"
      ]
    },
    {
      "cell_type": "markdown",
      "metadata": {
        "id": "bL3wbx1sVvND"
      },
      "source": [
        "## **Training and evaluating**"
      ]
    },
    {
      "cell_type": "markdown",
      "metadata": {
        "id": "8M_UC8yhVvNF"
      },
      "source": [
        "Now let's create the actual Keras model with the input tensors `x_inp` and output tensors being the predictions `predictions` from the final dense layer. Our task is a categorical prediction task, so a categorical cross-entropy loss function is appropriate. Even though we're doing graph ML with StellarGraph, we're still working with conventional Keras prediction values, so we can use the loss function from Keras directly."
      ]
    },
    {
      "cell_type": "code",
      "execution_count": 16,
      "metadata": {
        "id": "iXGr1XPmVvNF",
        "colab": {
          "base_uri": "https://localhost:8080/"
        },
        "outputId": "179a85ec-9900-497a-e875-fdd3f2215c88"
      },
      "outputs": [
        {
          "output_type": "stream",
          "name": "stderr",
          "text": [
            "/usr/local/lib/python3.7/dist-packages/keras/optimizers/optimizer_v2/adam.py:110: UserWarning: The `lr` argument is deprecated, use `learning_rate` instead.\n",
            "  super(Adam, self).__init__(name, **kwargs)\n"
          ]
        }
      ],
      "source": [
        "model = Model(inputs=x_inp, outputs=predictions)\n",
        "model.compile(\n",
        "    optimizer=optimizers.Adam(lr=0.01),\n",
        "    loss=losses.categorical_crossentropy,\n",
        "    metrics=[\"acc\"],\n",
        ")"
      ]
    },
    {
      "cell_type": "markdown",
      "metadata": {
        "id": "fEAcWzL8VvNF"
      },
      "source": [
        "As we're training the model, we'll want to also keep track of its generalisation performance on the validation set, which means creating another data generator, using our `FullBatchNodeGenerator` we created above."
      ]
    },
    {
      "cell_type": "code",
      "execution_count": 17,
      "metadata": {
        "id": "429D8-_zVvNF"
      },
      "outputs": [],
      "source": [
        "val_gen = generator.flow(val_subjects.index, val_targets)"
      ]
    },
    {
      "cell_type": "code",
      "execution_count": 18,
      "metadata": {
        "id": "NrwKBK4IVvNH"
      },
      "outputs": [],
      "source": [
        "from tensorflow.keras.callbacks import EarlyStopping\n",
        "\n",
        "es_callback = EarlyStopping(monitor=\"val_acc\", patience=50, restore_best_weights=True)"
      ]
    },
    {
      "cell_type": "code",
      "execution_count": 19,
      "metadata": {
        "id": "XsCnAKKGVvNH",
        "outputId": "77e56623-3769-43ab-be90-62cb91cd4e8d",
        "colab": {
          "base_uri": "https://localhost:8080/"
        }
      },
      "outputs": [
        {
          "output_type": "stream",
          "name": "stdout",
          "text": [
            "Epoch 1/200\n",
            "1/1 - 3s - loss: 1.9447 - acc: 0.1286 - val_loss: 1.9021 - val_acc: 0.3120 - 3s/epoch - 3s/step\n",
            "Epoch 2/200\n",
            "1/1 - 0s - loss: 1.8924 - acc: 0.3286 - val_loss: 1.8464 - val_acc: 0.3060 - 55ms/epoch - 55ms/step\n",
            "Epoch 3/200\n",
            "1/1 - 0s - loss: 1.8284 - acc: 0.3071 - val_loss: 1.7788 - val_acc: 0.3120 - 53ms/epoch - 53ms/step\n",
            "Epoch 4/200\n",
            "1/1 - 0s - loss: 1.7535 - acc: 0.3143 - val_loss: 1.7061 - val_acc: 0.3140 - 57ms/epoch - 57ms/step\n",
            "Epoch 5/200\n",
            "1/1 - 0s - loss: 1.6566 - acc: 0.3500 - val_loss: 1.6340 - val_acc: 0.3180 - 56ms/epoch - 56ms/step\n",
            "Epoch 6/200\n",
            "1/1 - 0s - loss: 1.5574 - acc: 0.3786 - val_loss: 1.5649 - val_acc: 0.3260 - 54ms/epoch - 54ms/step\n",
            "Epoch 7/200\n",
            "1/1 - 0s - loss: 1.5000 - acc: 0.3500 - val_loss: 1.4971 - val_acc: 0.3560 - 57ms/epoch - 57ms/step\n",
            "Epoch 8/200\n",
            "1/1 - 0s - loss: 1.3754 - acc: 0.4500 - val_loss: 1.4286 - val_acc: 0.4020 - 54ms/epoch - 54ms/step\n",
            "Epoch 9/200\n",
            "1/1 - 0s - loss: 1.2983 - acc: 0.4857 - val_loss: 1.3581 - val_acc: 0.4800 - 56ms/epoch - 56ms/step\n",
            "Epoch 10/200\n",
            "1/1 - 0s - loss: 1.2605 - acc: 0.5357 - val_loss: 1.2885 - val_acc: 0.5380 - 54ms/epoch - 54ms/step\n",
            "Epoch 11/200\n",
            "1/1 - 0s - loss: 1.0841 - acc: 0.6643 - val_loss: 1.2180 - val_acc: 0.5880 - 56ms/epoch - 56ms/step\n",
            "Epoch 12/200\n",
            "1/1 - 0s - loss: 1.0538 - acc: 0.6571 - val_loss: 1.1454 - val_acc: 0.6800 - 59ms/epoch - 59ms/step\n",
            "Epoch 13/200\n",
            "1/1 - 0s - loss: 0.9715 - acc: 0.7500 - val_loss: 1.0743 - val_acc: 0.7340 - 54ms/epoch - 54ms/step\n",
            "Epoch 14/200\n",
            "1/1 - 0s - loss: 0.8407 - acc: 0.8143 - val_loss: 1.0096 - val_acc: 0.7800 - 54ms/epoch - 54ms/step\n",
            "Epoch 15/200\n",
            "1/1 - 0s - loss: 0.7957 - acc: 0.8714 - val_loss: 0.9506 - val_acc: 0.7920 - 56ms/epoch - 56ms/step\n",
            "Epoch 16/200\n",
            "1/1 - 0s - loss: 0.7021 - acc: 0.9071 - val_loss: 0.9004 - val_acc: 0.7960 - 58ms/epoch - 58ms/step\n",
            "Epoch 17/200\n",
            "1/1 - 0s - loss: 0.6158 - acc: 0.9071 - val_loss: 0.8562 - val_acc: 0.7960 - 53ms/epoch - 53ms/step\n",
            "Epoch 18/200\n",
            "1/1 - 0s - loss: 0.6133 - acc: 0.8786 - val_loss: 0.8146 - val_acc: 0.7940 - 53ms/epoch - 53ms/step\n",
            "Epoch 19/200\n",
            "1/1 - 0s - loss: 0.5620 - acc: 0.8929 - val_loss: 0.7834 - val_acc: 0.7960 - 54ms/epoch - 54ms/step\n",
            "Epoch 20/200\n",
            "1/1 - 0s - loss: 0.4894 - acc: 0.8643 - val_loss: 0.7626 - val_acc: 0.7980 - 55ms/epoch - 55ms/step\n",
            "Epoch 21/200\n",
            "1/1 - 0s - loss: 0.4716 - acc: 0.9071 - val_loss: 0.7518 - val_acc: 0.7920 - 54ms/epoch - 54ms/step\n",
            "Epoch 22/200\n",
            "1/1 - 0s - loss: 0.4346 - acc: 0.8786 - val_loss: 0.7469 - val_acc: 0.7880 - 58ms/epoch - 58ms/step\n",
            "Epoch 23/200\n",
            "1/1 - 0s - loss: 0.3750 - acc: 0.9286 - val_loss: 0.7425 - val_acc: 0.7920 - 53ms/epoch - 53ms/step\n",
            "Epoch 24/200\n",
            "1/1 - 0s - loss: 0.2822 - acc: 0.9429 - val_loss: 0.7393 - val_acc: 0.7960 - 54ms/epoch - 54ms/step\n",
            "Epoch 25/200\n",
            "1/1 - 0s - loss: 0.2590 - acc: 0.9286 - val_loss: 0.7338 - val_acc: 0.8000 - 54ms/epoch - 54ms/step\n",
            "Epoch 26/200\n",
            "1/1 - 0s - loss: 0.2647 - acc: 0.9286 - val_loss: 0.7186 - val_acc: 0.8060 - 59ms/epoch - 59ms/step\n",
            "Epoch 27/200\n",
            "1/1 - 0s - loss: 0.2235 - acc: 0.9429 - val_loss: 0.7085 - val_acc: 0.8060 - 53ms/epoch - 53ms/step\n",
            "Epoch 28/200\n",
            "1/1 - 0s - loss: 0.2397 - acc: 0.9143 - val_loss: 0.6992 - val_acc: 0.8080 - 53ms/epoch - 53ms/step\n",
            "Epoch 29/200\n",
            "1/1 - 0s - loss: 0.1857 - acc: 0.9571 - val_loss: 0.7013 - val_acc: 0.8000 - 56ms/epoch - 56ms/step\n",
            "Epoch 30/200\n",
            "1/1 - 0s - loss: 0.1884 - acc: 0.9143 - val_loss: 0.7126 - val_acc: 0.8000 - 53ms/epoch - 53ms/step\n",
            "Epoch 31/200\n",
            "1/1 - 0s - loss: 0.1557 - acc: 0.9714 - val_loss: 0.7257 - val_acc: 0.7980 - 52ms/epoch - 52ms/step\n",
            "Epoch 32/200\n",
            "1/1 - 0s - loss: 0.1694 - acc: 0.9571 - val_loss: 0.7523 - val_acc: 0.7980 - 56ms/epoch - 56ms/step\n",
            "Epoch 33/200\n",
            "1/1 - 0s - loss: 0.1931 - acc: 0.9429 - val_loss: 0.7904 - val_acc: 0.7940 - 54ms/epoch - 54ms/step\n",
            "Epoch 34/200\n",
            "1/1 - 0s - loss: 0.1282 - acc: 0.9714 - val_loss: 0.8227 - val_acc: 0.7840 - 58ms/epoch - 58ms/step\n",
            "Epoch 35/200\n",
            "1/1 - 0s - loss: 0.0930 - acc: 0.9857 - val_loss: 0.8554 - val_acc: 0.7840 - 55ms/epoch - 55ms/step\n",
            "Epoch 36/200\n",
            "1/1 - 0s - loss: 0.1225 - acc: 0.9643 - val_loss: 0.8801 - val_acc: 0.7840 - 51ms/epoch - 51ms/step\n",
            "Epoch 37/200\n",
            "1/1 - 0s - loss: 0.1423 - acc: 0.9429 - val_loss: 0.8990 - val_acc: 0.7900 - 55ms/epoch - 55ms/step\n",
            "Epoch 38/200\n",
            "1/1 - 0s - loss: 0.1152 - acc: 0.9571 - val_loss: 0.9068 - val_acc: 0.7960 - 52ms/epoch - 52ms/step\n",
            "Epoch 39/200\n",
            "1/1 - 0s - loss: 0.1016 - acc: 0.9714 - val_loss: 0.9158 - val_acc: 0.7980 - 54ms/epoch - 54ms/step\n",
            "Epoch 40/200\n",
            "1/1 - 0s - loss: 0.0921 - acc: 0.9714 - val_loss: 0.9214 - val_acc: 0.8020 - 55ms/epoch - 55ms/step\n",
            "Epoch 41/200\n",
            "1/1 - 0s - loss: 0.1379 - acc: 0.9571 - val_loss: 0.9257 - val_acc: 0.8020 - 53ms/epoch - 53ms/step\n",
            "Epoch 42/200\n",
            "1/1 - 0s - loss: 0.0817 - acc: 0.9786 - val_loss: 0.9251 - val_acc: 0.8040 - 52ms/epoch - 52ms/step\n",
            "Epoch 43/200\n",
            "1/1 - 0s - loss: 0.0994 - acc: 0.9857 - val_loss: 0.9172 - val_acc: 0.8040 - 52ms/epoch - 52ms/step\n",
            "Epoch 44/200\n",
            "1/1 - 0s - loss: 0.0956 - acc: 0.9786 - val_loss: 0.9116 - val_acc: 0.8060 - 52ms/epoch - 52ms/step\n",
            "Epoch 45/200\n",
            "1/1 - 0s - loss: 0.0711 - acc: 0.9714 - val_loss: 0.9073 - val_acc: 0.8060 - 59ms/epoch - 59ms/step\n",
            "Epoch 46/200\n",
            "1/1 - 0s - loss: 0.0487 - acc: 0.9857 - val_loss: 0.8975 - val_acc: 0.8060 - 55ms/epoch - 55ms/step\n",
            "Epoch 47/200\n",
            "1/1 - 0s - loss: 0.0469 - acc: 0.9857 - val_loss: 0.8930 - val_acc: 0.8020 - 55ms/epoch - 55ms/step\n",
            "Epoch 48/200\n",
            "1/1 - 0s - loss: 0.1028 - acc: 0.9714 - val_loss: 0.8849 - val_acc: 0.8040 - 57ms/epoch - 57ms/step\n",
            "Epoch 49/200\n",
            "1/1 - 0s - loss: 0.0591 - acc: 0.9857 - val_loss: 0.8746 - val_acc: 0.8060 - 61ms/epoch - 61ms/step\n",
            "Epoch 50/200\n",
            "1/1 - 0s - loss: 0.0826 - acc: 0.9571 - val_loss: 0.8670 - val_acc: 0.8100 - 86ms/epoch - 86ms/step\n",
            "Epoch 51/200\n",
            "1/1 - 0s - loss: 0.0835 - acc: 0.9786 - val_loss: 0.8594 - val_acc: 0.8040 - 81ms/epoch - 81ms/step\n",
            "Epoch 52/200\n",
            "1/1 - 0s - loss: 0.0972 - acc: 0.9643 - val_loss: 0.8571 - val_acc: 0.8060 - 87ms/epoch - 87ms/step\n",
            "Epoch 53/200\n",
            "1/1 - 0s - loss: 0.0692 - acc: 0.9857 - val_loss: 0.8627 - val_acc: 0.8040 - 91ms/epoch - 91ms/step\n",
            "Epoch 54/200\n",
            "1/1 - 0s - loss: 0.0712 - acc: 0.9714 - val_loss: 0.8721 - val_acc: 0.8080 - 79ms/epoch - 79ms/step\n",
            "Epoch 55/200\n",
            "1/1 - 0s - loss: 0.0905 - acc: 0.9643 - val_loss: 0.8868 - val_acc: 0.8060 - 80ms/epoch - 80ms/step\n",
            "Epoch 56/200\n",
            "1/1 - 0s - loss: 0.0737 - acc: 0.9714 - val_loss: 0.9114 - val_acc: 0.7960 - 88ms/epoch - 88ms/step\n",
            "Epoch 57/200\n",
            "1/1 - 0s - loss: 0.1080 - acc: 0.9571 - val_loss: 0.9397 - val_acc: 0.7940 - 67ms/epoch - 67ms/step\n",
            "Epoch 58/200\n",
            "1/1 - 0s - loss: 0.0397 - acc: 0.9929 - val_loss: 0.9672 - val_acc: 0.7880 - 63ms/epoch - 63ms/step\n",
            "Epoch 59/200\n",
            "1/1 - 0s - loss: 0.0632 - acc: 0.9786 - val_loss: 0.9936 - val_acc: 0.7820 - 67ms/epoch - 67ms/step\n",
            "Epoch 60/200\n",
            "1/1 - 0s - loss: 0.0537 - acc: 0.9786 - val_loss: 1.0179 - val_acc: 0.7860 - 54ms/epoch - 54ms/step\n",
            "Epoch 61/200\n",
            "1/1 - 0s - loss: 0.0437 - acc: 0.9929 - val_loss: 1.0373 - val_acc: 0.7880 - 53ms/epoch - 53ms/step\n",
            "Epoch 62/200\n",
            "1/1 - 0s - loss: 0.0429 - acc: 1.0000 - val_loss: 1.0543 - val_acc: 0.7840 - 56ms/epoch - 56ms/step\n",
            "Epoch 63/200\n",
            "1/1 - 0s - loss: 0.1204 - acc: 0.9500 - val_loss: 1.0581 - val_acc: 0.7880 - 52ms/epoch - 52ms/step\n",
            "Epoch 64/200\n",
            "1/1 - 0s - loss: 0.0532 - acc: 0.9857 - val_loss: 1.0475 - val_acc: 0.7900 - 58ms/epoch - 58ms/step\n",
            "Epoch 65/200\n",
            "1/1 - 0s - loss: 0.0586 - acc: 0.9857 - val_loss: 1.0341 - val_acc: 0.7880 - 54ms/epoch - 54ms/step\n",
            "Epoch 66/200\n",
            "1/1 - 0s - loss: 0.0483 - acc: 0.9857 - val_loss: 1.0199 - val_acc: 0.7940 - 54ms/epoch - 54ms/step\n",
            "Epoch 67/200\n",
            "1/1 - 0s - loss: 0.0796 - acc: 0.9714 - val_loss: 1.0068 - val_acc: 0.8040 - 54ms/epoch - 54ms/step\n",
            "Epoch 68/200\n",
            "1/1 - 0s - loss: 0.0390 - acc: 0.9857 - val_loss: 0.9959 - val_acc: 0.8080 - 53ms/epoch - 53ms/step\n",
            "Epoch 69/200\n",
            "1/1 - 0s - loss: 0.0427 - acc: 0.9929 - val_loss: 0.9899 - val_acc: 0.8020 - 60ms/epoch - 60ms/step\n",
            "Epoch 70/200\n",
            "1/1 - 0s - loss: 0.0528 - acc: 0.9857 - val_loss: 0.9875 - val_acc: 0.8020 - 54ms/epoch - 54ms/step\n",
            "Epoch 71/200\n",
            "1/1 - 0s - loss: 0.0224 - acc: 1.0000 - val_loss: 0.9853 - val_acc: 0.8000 - 51ms/epoch - 51ms/step\n",
            "Epoch 72/200\n",
            "1/1 - 0s - loss: 0.0518 - acc: 0.9857 - val_loss: 0.9871 - val_acc: 0.7960 - 56ms/epoch - 56ms/step\n",
            "Epoch 73/200\n",
            "1/1 - 0s - loss: 0.0388 - acc: 0.9857 - val_loss: 0.9948 - val_acc: 0.7960 - 62ms/epoch - 62ms/step\n",
            "Epoch 74/200\n",
            "1/1 - 0s - loss: 0.0478 - acc: 0.9929 - val_loss: 1.0015 - val_acc: 0.7920 - 54ms/epoch - 54ms/step\n",
            "Epoch 75/200\n",
            "1/1 - 0s - loss: 0.0503 - acc: 0.9929 - val_loss: 1.0103 - val_acc: 0.7960 - 53ms/epoch - 53ms/step\n",
            "Epoch 76/200\n",
            "1/1 - 0s - loss: 0.0575 - acc: 0.9857 - val_loss: 1.0220 - val_acc: 0.8000 - 55ms/epoch - 55ms/step\n",
            "Epoch 77/200\n",
            "1/1 - 0s - loss: 0.0623 - acc: 0.9786 - val_loss: 1.0355 - val_acc: 0.8040 - 55ms/epoch - 55ms/step\n",
            "Epoch 78/200\n",
            "1/1 - 0s - loss: 0.0202 - acc: 1.0000 - val_loss: 1.0550 - val_acc: 0.8100 - 53ms/epoch - 53ms/step\n",
            "Epoch 79/200\n",
            "1/1 - 0s - loss: 0.0419 - acc: 0.9929 - val_loss: 1.0783 - val_acc: 0.8080 - 52ms/epoch - 52ms/step\n",
            "Epoch 80/200\n",
            "1/1 - 0s - loss: 0.0253 - acc: 1.0000 - val_loss: 1.0994 - val_acc: 0.8020 - 56ms/epoch - 56ms/step\n",
            "Epoch 81/200\n",
            "1/1 - 0s - loss: 0.0347 - acc: 0.9929 - val_loss: 1.1234 - val_acc: 0.7960 - 52ms/epoch - 52ms/step\n",
            "Epoch 82/200\n",
            "1/1 - 0s - loss: 0.0158 - acc: 1.0000 - val_loss: 1.1476 - val_acc: 0.7860 - 53ms/epoch - 53ms/step\n",
            "Epoch 83/200\n",
            "1/1 - 0s - loss: 0.0749 - acc: 0.9786 - val_loss: 1.1618 - val_acc: 0.7860 - 56ms/epoch - 56ms/step\n",
            "Epoch 84/200\n",
            "1/1 - 0s - loss: 0.0528 - acc: 0.9929 - val_loss: 1.1520 - val_acc: 0.7920 - 53ms/epoch - 53ms/step\n",
            "Epoch 85/200\n",
            "1/1 - 0s - loss: 0.0869 - acc: 0.9786 - val_loss: 1.1149 - val_acc: 0.8040 - 52ms/epoch - 52ms/step\n",
            "Epoch 86/200\n",
            "1/1 - 0s - loss: 0.0607 - acc: 0.9786 - val_loss: 1.0979 - val_acc: 0.8040 - 53ms/epoch - 53ms/step\n",
            "Epoch 87/200\n",
            "1/1 - 0s - loss: 0.0399 - acc: 0.9857 - val_loss: 1.0836 - val_acc: 0.8020 - 52ms/epoch - 52ms/step\n",
            "Epoch 88/200\n",
            "1/1 - 0s - loss: 0.0399 - acc: 0.9929 - val_loss: 1.0759 - val_acc: 0.8020 - 54ms/epoch - 54ms/step\n",
            "Epoch 89/200\n",
            "1/1 - 0s - loss: 0.0325 - acc: 0.9929 - val_loss: 1.0690 - val_acc: 0.8020 - 51ms/epoch - 51ms/step\n",
            "Epoch 90/200\n",
            "1/1 - 0s - loss: 0.0401 - acc: 0.9929 - val_loss: 1.0610 - val_acc: 0.8060 - 54ms/epoch - 54ms/step\n",
            "Epoch 91/200\n",
            "1/1 - 0s - loss: 0.0388 - acc: 0.9786 - val_loss: 1.0554 - val_acc: 0.8060 - 54ms/epoch - 54ms/step\n",
            "Epoch 92/200\n",
            "1/1 - 0s - loss: 0.0437 - acc: 0.9857 - val_loss: 1.0515 - val_acc: 0.8040 - 53ms/epoch - 53ms/step\n",
            "Epoch 93/200\n",
            "1/1 - 0s - loss: 0.0281 - acc: 1.0000 - val_loss: 1.0528 - val_acc: 0.8020 - 54ms/epoch - 54ms/step\n",
            "Epoch 94/200\n",
            "1/1 - 0s - loss: 0.0565 - acc: 0.9643 - val_loss: 1.0552 - val_acc: 0.8060 - 53ms/epoch - 53ms/step\n",
            "Epoch 95/200\n",
            "1/1 - 0s - loss: 0.0322 - acc: 0.9857 - val_loss: 1.0603 - val_acc: 0.8080 - 54ms/epoch - 54ms/step\n",
            "Epoch 96/200\n",
            "1/1 - 0s - loss: 0.0165 - acc: 1.0000 - val_loss: 1.0640 - val_acc: 0.8100 - 58ms/epoch - 58ms/step\n",
            "Epoch 97/200\n",
            "1/1 - 0s - loss: 0.0514 - acc: 0.9857 - val_loss: 1.0719 - val_acc: 0.8080 - 52ms/epoch - 52ms/step\n",
            "Epoch 98/200\n",
            "1/1 - 0s - loss: 0.0443 - acc: 0.9857 - val_loss: 1.0819 - val_acc: 0.8100 - 55ms/epoch - 55ms/step\n",
            "Epoch 99/200\n",
            "1/1 - 0s - loss: 0.0420 - acc: 0.9929 - val_loss: 1.0949 - val_acc: 0.8080 - 54ms/epoch - 54ms/step\n",
            "Epoch 100/200\n",
            "1/1 - 0s - loss: 0.0342 - acc: 0.9929 - val_loss: 1.1079 - val_acc: 0.8080 - 57ms/epoch - 57ms/step\n"
          ]
        }
      ],
      "source": [
        "history = model.fit(\n",
        "    train_gen,\n",
        "    epochs=200,\n",
        "    validation_data=val_gen,\n",
        "    verbose=2,\n",
        "    shuffle=False,  # this should be False, since shuffling data means shuffling the whole graph\n",
        "    callbacks=[es_callback],\n",
        ")"
      ]
    },
    {
      "cell_type": "markdown",
      "metadata": {
        "id": "hIW3fCaDVvNH"
      },
      "source": [
        "## **Graph Plotting**\n"
      ]
    },
    {
      "cell_type": "markdown",
      "source": [
        "To view the behaviour loss function and any other metrics. In this case, we can see the loss and accuracy on both the training and validation sets."
      ],
      "metadata": {
        "id": "TJxVtCAt3jpp"
      }
    },
    {
      "cell_type": "code",
      "execution_count": 20,
      "metadata": {
        "id": "tToqY9IgVvNH",
        "outputId": "0574e3bc-b76c-410b-91c5-412039a8ab30",
        "colab": {
          "base_uri": "https://localhost:8080/",
          "height": 585
        }
      },
      "outputs": [
        {
          "output_type": "display_data",
          "data": {
            "text/plain": [
              "<Figure size 504x576 with 2 Axes>"
            ],
            "image/png": "[encoded data removed]"
          },
          "metadata": {
            "needs_background": "light"
          }
        }
      ],
      "source": [
        "sg.utils.plot_history(history)"
      ]
    },
    {
      "cell_type": "markdown",
      "metadata": {
        "id": "Z8bB5b3KVvNJ"
      },
      "source": [
        "As the final part of our evaluation, let's check the model against the test set. We again create the data required for this using the `flow` method on our `FullBatchNodeGenerator` from above, and can use the model's `evaluate` method to compute the metric values for the trained model.\n",
        "\n",
        "As expected, the model performs similarly on the validation set during training and on the test set here."
      ]
    },
    {
      "cell_type": "code",
      "execution_count": 21,
      "metadata": {
        "id": "029NXdnkVvNJ"
      },
      "outputs": [],
      "source": [
        "test_gen = generator.flow(test_subjects.index, test_targets)"
      ]
    },
    {
      "cell_type": "code",
      "execution_count": 22,
      "metadata": {
        "id": "cfyBhDdAVvNJ",
        "outputId": "7a199e04-7936-4cfe-c399-73df8d7ed9a0",
        "colab": {
          "base_uri": "https://localhost:8080/"
        }
      },
      "outputs": [
        {
          "output_type": "stream",
          "name": "stdout",
          "text": [
            "1/1 [==============================] - 0s 55ms/step - loss: 0.8534 - acc: 0.7935\n",
            "\n",
            "Test Set Metrics:\n",
            "\tloss: 0.8534\n",
            "\tacc: 0.7935\n"
          ]
        }
      ],
      "source": [
        "test_metrics = model.evaluate(test_gen)\n",
        "print(\"\\nTest Set Metrics:\")\n",
        "for name, val in zip(model.metrics_names, test_metrics):\n",
        "    print(\"\\t{}: {:0.4f}\".format(name, val))"
      ]
    },
    {
      "cell_type": "code",
      "execution_count": 23,
      "metadata": {
        "id": "iMpqNM2vVvNL",
        "colab": {
          "base_uri": "https://localhost:8080/"
        },
        "outputId": "6d282bd7-fcc6-469d-cdd5-2ecf2ac29fcc"
      },
      "outputs": [
        {
          "output_type": "stream",
          "name": "stdout",
          "text": [
            "1/1 [==============================] - 0s 149ms/step\n"
          ]
        }
      ],
      "source": [
        "all_nodes = node_subjects.index\n",
        "all_gen = generator.flow(all_nodes)\n",
        "all_predictions = model.predict(all_gen)"
      ]
    },
    {
      "cell_type": "markdown",
      "metadata": {
        "id": "rVW-3czeVvNL"
      },
      "source": [
        "These predictions will be the output of the softmax layer, so to get final categories we'll use the `inverse_transform` method of our target attribute specification to turn these values back to the original categories."
      ]
    },
    {
      "cell_type": "code",
      "execution_count": 24,
      "metadata": {
        "id": "k-_2cU12VvNL"
      },
      "outputs": [],
      "source": [
        "node_predictions = target_encoding.inverse_transform(all_predictions.squeeze())"
      ]
    },
    {
      "cell_type": "code",
      "execution_count": 25,
      "metadata": {
        "id": "4DGImMDnVvNM",
        "outputId": "3403f28d-fcb0-4530-ec59-296823bfe8db",
        "colab": {
          "base_uri": "https://localhost:8080/",
          "height": 677
        }
      },
      "outputs": [
        {
          "output_type": "execute_result",
          "data": {
            "text/plain": [
              "                      Predicted                    True\n",
              "31336           Neural_Networks         Neural_Networks\n",
              "1061127           Rule_Learning           Rule_Learning\n",
              "1106406  Reinforcement_Learning  Reinforcement_Learning\n",
              "13195    Reinforcement_Learning  Reinforcement_Learning\n",
              "37879     Probabilistic_Methods   Probabilistic_Methods\n",
              "1126012         Neural_Networks   Probabilistic_Methods\n",
              "1107140              Case_Based                  Theory\n",
              "1102850         Neural_Networks         Neural_Networks\n",
              "31349           Neural_Networks         Neural_Networks\n",
              "1106418                  Theory                  Theory\n",
              "1123188         Neural_Networks         Neural_Networks\n",
              "1128990      Genetic_Algorithms      Genetic_Algorithms\n",
              "109323    Probabilistic_Methods   Probabilistic_Methods\n",
              "217139               Case_Based              Case_Based\n",
              "31353           Neural_Networks         Neural_Networks\n",
              "32083           Neural_Networks         Neural_Networks\n",
              "1126029  Reinforcement_Learning  Reinforcement_Learning\n",
              "1118017         Neural_Networks         Neural_Networks\n",
              "49482           Neural_Networks         Neural_Networks\n",
              "753265          Neural_Networks         Neural_Networks"
            ],
            "text/html": [
              "\n",
              "  <div id=\"df-21d89dff-d912-492a-8985-031613b7e283\">\n",
              "    <div class=\"colab-df-container\">\n",
              "      <div>\n",
              "<style scoped>\n",
              "    .dataframe tbody tr th:only-of-type {\n",
              "        vertical-align: middle;\n",
              "    }\n",
              "\n",
              "    .dataframe tbody tr th {\n",
              "        vertical-align: top;\n",
              "    }\n",
              "\n",
              "    .dataframe thead th {\n",
              "        text-align: right;\n",
              "    }\n",
              "</style>\n",
              "<table border=\"1\" class=\"dataframe\">\n",
              "  <thead>\n",
              "    <tr style=\"text-align: right;\">\n",
              "      <th></th>\n",
              "      <th>Predicted</th>\n",
              "      <th>True</th>\n",
              "    </tr>\n",
              "  </thead>\n",
              "  <tbody>\n",
              "    <tr>\n",
              "      <th>31336</th>\n",
              "      <td>Neural_Networks</td>\n",
              "      <td>Neural_Networks</td>\n",
              "    </tr>\n",
              "    <tr>\n",
              "      <th>1061127</th>\n",
              "      <td>Rule_Learning</td>\n",
              "      <td>Rule_Learning</td>\n",
              "    </tr>\n",
              "    <tr>\n",
              "      <th>1106406</th>\n",
              "      <td>Reinforcement_Learning</td>\n",
              "      <td>Reinforcement_Learning</td>\n",
              "    </tr>\n",
              "    <tr>\n",
              "      <th>13195</th>\n",
              "      <td>Reinforcement_Learning</td>\n",
              "      <td>Reinforcement_Learning</td>\n",
              "    </tr>\n",
              "    <tr>\n",
              "      <th>37879</th>\n",
              "      <td>Probabilistic_Methods</td>\n",
              "      <td>Probabilistic_Methods</td>\n",
              "    </tr>\n",
              "    <tr>\n",
              "      <th>1126012</th>\n",
              "      <td>Neural_Networks</td>\n",
              "      <td>Probabilistic_Methods</td>\n",
              "    </tr>\n",
              "    <tr>\n",
              "      <th>1107140</th>\n",
              "      <td>Case_Based</td>\n",
              "      <td>Theory</td>\n",
              "    </tr>\n",
              "    <tr>\n",
              "      <th>1102850</th>\n",
              "      <td>Neural_Networks</td>\n",
              "      <td>Neural_Networks</td>\n",
              "    </tr>\n",
              "    <tr>\n",
              "      <th>31349</th>\n",
              "      <td>Neural_Networks</td>\n",
              "      <td>Neural_Networks</td>\n",
              "    </tr>\n",
              "    <tr>\n",
              "      <th>1106418</th>\n",
              "      <td>Theory</td>\n",
              "      <td>Theory</td>\n",
              "    </tr>\n",
              "    <tr>\n",
              "      <th>1123188</th>\n",
              "      <td>Neural_Networks</td>\n",
              "      <td>Neural_Networks</td>\n",
              "    </tr>\n",
              "    <tr>\n",
              "      <th>1128990</th>\n",
              "      <td>Genetic_Algorithms</td>\n",
              "      <td>Genetic_Algorithms</td>\n",
              "    </tr>\n",
              "    <tr>\n",
              "      <th>109323</th>\n",
              "      <td>Probabilistic_Methods</td>\n",
              "      <td>Probabilistic_Methods</td>\n",
              "    </tr>\n",
              "    <tr>\n",
              "      <th>217139</th>\n",
              "      <td>Case_Based</td>\n",
              "      <td>Case_Based</td>\n",
              "    </tr>\n",
              "    <tr>\n",
              "      <th>31353</th>\n",
              "      <td>Neural_Networks</td>\n",
              "      <td>Neural_Networks</td>\n",
              "    </tr>\n",
              "    <tr>\n",
              "      <th>32083</th>\n",
              "      <td>Neural_Networks</td>\n",
              "      <td>Neural_Networks</td>\n",
              "    </tr>\n",
              "    <tr>\n",
              "      <th>1126029</th>\n",
              "      <td>Reinforcement_Learning</td>\n",
              "      <td>Reinforcement_Learning</td>\n",
              "    </tr>\n",
              "    <tr>\n",
              "      <th>1118017</th>\n",
              "      <td>Neural_Networks</td>\n",
              "      <td>Neural_Networks</td>\n",
              "    </tr>\n",
              "    <tr>\n",
              "      <th>49482</th>\n",
              "      <td>Neural_Networks</td>\n",
              "      <td>Neural_Networks</td>\n",
              "    </tr>\n",
              "    <tr>\n",
              "      <th>753265</th>\n",
              "      <td>Neural_Networks</td>\n",
              "      <td>Neural_Networks</td>\n",
              "    </tr>\n",
              "  </tbody>\n",
              "</table>\n",
              "</div>\n",
              "      <button class=\"colab-df-convert\" onclick=\"convertToInteractive('df-21d89dff-d912-492a-8985-031613b7e283')\"\n",
              "              title=\"Convert this dataframe to an interactive table.\"\n",
              "              style=\"display:none;\">\n",
              "        \n",
              "  <svg xmlns=\"http://www.w3.org/2000/svg\" height=\"24px\"viewBox=\"0 0 24 24\"\n",
              "       width=\"24px\">\n",
              "    <path d=\"M0 0h24v24H0V0z\" fill=\"none\"/>\n",
              "    <path d=\"M18.56 5.44l.94 2.06.94-2.06 2.06-.94-2.06-.94-.94-2.06-.94 2.06-2.06.94zm-11 1L8.5 8.5l.94-2.06 2.06-.94-2.06-.94L8.5 2.5l-.94 2.06-2.06.94zm10 10l.94 2.06.94-2.06 2.06-.94-2.06-.94-.94-2.06-.94 2.06-2.06.94z\"/><path d=\"M17.41 7.96l-1.37-1.37c-.4-.4-.92-.59-1.43-.59-.52 0-1.04.2-1.43.59L10.3 9.45l-7.72 7.72c-.78.78-.78 2.05 0 2.83L4 21.41c.39.39.9.59 1.41.59.51 0 1.02-.2 1.41-.59l7.78-7.78 2.81-2.81c.8-.78.8-2.07 0-2.86zM5.41 20L4 18.59l7.72-7.72 1.47 1.35L5.41 20z\"/>\n",
              "  </svg>\n",
              "      </button>\n",
              "      \n",
              "  <style>\n",
              "    .colab-df-container {\n",
              "      display:flex;\n",
              "      flex-wrap:wrap;\n",
              "      gap: 12px;\n",
              "    }\n",
              "\n",
              "    .colab-df-convert {\n",
              "      background-color: #E8F0FE;\n",
              "      border: none;\n",
              "      border-radius: 50%;\n",
              "      cursor: pointer;\n",
              "      display: none;\n",
              "      fill: #1967D2;\n",
              "      height: 32px;\n",
              "      padding: 0 0 0 0;\n",
              "      width: 32px;\n",
              "    }\n",
              "\n",
              "    .colab-df-convert:hover {\n",
              "      background-color: #E2EBFA;\n",
              "      box-shadow: 0px 1px 2px rgba(60, 64, 67, 0.3), 0px 1px 3px 1px rgba(60, 64, 67, 0.15);\n",
              "      fill: #174EA6;\n",
              "    }\n",
              "\n",
              "    [theme=dark] .colab-df-convert {\n",
              "      background-color: #3B4455;\n",
              "      fill: #D2E3FC;\n",
              "    }\n",
              "\n",
              "    [theme=dark] .colab-df-convert:hover {\n",
              "      background-color: #434B5C;\n",
              "      box-shadow: 0px 1px 3px 1px rgba(0, 0, 0, 0.15);\n",
              "      filter: drop-shadow(0px 1px 2px rgba(0, 0, 0, 0.3));\n",
              "      fill: #FFFFFF;\n",
              "    }\n",
              "  </style>\n",
              "\n",
              "      <script>\n",
              "        const buttonEl =\n",
              "          document.querySelector('#df-21d89dff-d912-492a-8985-031613b7e283 button.colab-df-convert');\n",
              "        buttonEl.style.display =\n",
              "          google.colab.kernel.accessAllowed ? 'block' : 'none';\n",
              "\n",
              "        async function convertToInteractive(key) {\n",
              "          const element = document.querySelector('#df-21d89dff-d912-492a-8985-031613b7e283');\n",
              "          const dataTable =\n",
              "            await google.colab.kernel.invokeFunction('convertToInteractive',\n",
              "                                                     [key], {});\n",
              "          if (!dataTable) return;\n",
              "\n",
              "          const docLinkHtml = 'Like what you see? Visit the ' +\n",
              "            '<a target=\"_blank\" href=https://colab.research.google.com/notebooks/data_table.ipynb>data table notebook</a>'\n",
              "            + ' to learn more about interactive tables.';\n",
              "          element.innerHTML = '';\n",
              "          dataTable['output_type'] = 'display_data';\n",
              "          await google.colab.output.renderOutput(dataTable, element);\n",
              "          const docLink = document.createElement('div');\n",
              "          docLink.innerHTML = docLinkHtml;\n",
              "          element.appendChild(docLink);\n",
              "        }\n",
              "      </script>\n",
              "    </div>\n",
              "  </div>\n",
              "  "
            ]
          },
          "metadata": {},
          "execution_count": 25
        }
      ],
      "source": [
        "df = pd.DataFrame({\"Predicted\": node_predictions, \"True\": node_subjects})\n",
        "df.head(20)"
      ]
    },
    {
      "cell_type": "markdown",
      "source": [
        "## **Reference**\n",
        "\n"
      ],
      "metadata": {
        "id": "3xuOdyZRfP8y"
      }
    },
    {
      "cell_type": "markdown",
      "source": [
        "- https://stellargraph.readthedocs.io/en/stable/demos/node-classification/gcn-node-classification.html"
      ],
      "metadata": {
        "id": "FBPQAeda4Jfx"
      }
    }
  ],
  "metadata": {
    "kernelspec": {
      "display_name": "Python 3",
      "language": "python",
      "name": "python3"
    },
    "language_info": {
      "codemirror_mode": {
        "name": "ipython",
        "version": 3
      },
      "file_extension": ".py",
      "mimetype": "text/x-python",
      "name": "python",
      "nbconvert_exporter": "python",
      "pygments_lexer": "ipython3",
      "version": "3.6.9"
    },
    "colab": {
      "provenance": [],
      "collapsed_sections": []
    },
    "accelerator": "GPU"
  },
  "nbformat": 4,
  "nbformat_minor": 0
}